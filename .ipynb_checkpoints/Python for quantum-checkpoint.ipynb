{
 "cells": [
  {
   "cell_type": "markdown",
   "metadata": {},
   "source": [
    "# How to code in Python and use it for simmulating quantum systems like a real scientist!"
   ]
  },
  {
   "cell_type": "markdown",
   "metadata": {},
   "source": [
    "**in this *notebook* I try to learn below subjects:**"
   ]
  },
  {
   "cell_type": "markdown",
   "metadata": {},
   "source": [
    "\n",
    "> Git\n",
    ">> Github\n",
    ">\n",
    ">Jupyter\n",
    ">> coding in jupyter\n",
    ">>\n",
    ">> markdowns!\n",
    ">\n",
    ">VS Code\n",
    ">\n",
    ">programming with Python language:\n",
    ">> functional programming\n",
    ">>\n",
    ">> object-oriented programming\n",
    ">>\n",
    ">>Python libraries including:\n",
    "+ matplotlib.pyplot\n",
    "+ SciPy\n",
    "+ NumPy\n",
    ">\n",
    ">Quantum toolbox in Python\n",
    ">>Qutip\n"
   ]
  },
  {
   "cell_type": "markdown",
   "metadata": {},
   "source": [
    "*for each of above I use a different Jupiter notebook*"
   ]
  },
  {
   "cell_type": "code",
   "execution_count": null,
   "metadata": {},
   "outputs": [],
   "source": []
  }
 ],
 "metadata": {
  "kernelspec": {
   "display_name": "Python 3",
   "language": "python",
   "name": "python3"
  },
  "language_info": {
   "codemirror_mode": {
    "name": "ipython",
    "version": 3
   },
   "file_extension": ".py",
   "mimetype": "text/x-python",
   "name": "python",
   "nbconvert_exporter": "python",
   "pygments_lexer": "ipython3",
   "version": "3.7.4"
  }
 },
 "nbformat": 4,
 "nbformat_minor": 4
}
