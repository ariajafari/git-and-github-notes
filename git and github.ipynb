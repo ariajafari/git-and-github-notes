{
 "cells": [
  {
   "cell_type": "markdown",
   "metadata": {
    "ipub": {
     "titlepage": {
      "author": "Aria Jafari",
      "email": "ariajafari1994@gmail.com",
      "institution": "University of Tehran",
      "title": "Git"
     }
    }
   },
   "source": [
    "# <span style=\"color:blue\"> Git</span>"
   ]
  },
  {
   "cell_type": "markdown",
   "metadata": {},
   "source": [
    "![git icon](/home/aria/QuTip/CODES/figures/git.png)"
   ]
  },
  {
   "cell_type": "markdown",
   "metadata": {},
   "source": [
    "Git is a distributed (more than one person can be involved in a project) version control system (**vcs**).\n",
    "Git can be downloaded from [git-scm.com](https://git-scm.com/ )."
   ]
  },
  {
   "cell_type": "markdown",
   "metadata": {},
   "source": [
    "All of Git commands have the form: `git <command> `."
   ]
  },
  {
   "cell_type": "markdown",
   "metadata": {},
   "source": [
    "`git help <command>` shows help of the command. For example `git help commit` shows:\n",
    "\n",
    "![git help](/home/aria/QuTip/CODES/figures/githelp.png)"
   ]
  },
  {
   "cell_type": "markdown",
   "metadata": {},
   "source": [
    "The Git directory is where Git stores the *metadata* and *object database* for your project. This is the most\n",
    "important part of Git, and it is what is copied when you *clone* a *repository* from another computer.\n",
    "[From progit book](https://git-scm.com/book/en/v2)"
   ]
  },
  {
   "cell_type": "markdown",
   "metadata": {},
   "source": [
    "## Initialization\n",
    "To tell Git to watch a specific directory, open terminal then go to the directory which you want to be watched and then type `git init` command. A new directory will be created with *.git* name."
   ]
  },
  {
   "cell_type": "markdown",
   "metadata": {},
   "source": [
    "To undo `git init` just delete *.git* directory with `rm -rf .git` command."
   ]
  },
  {
   "cell_type": "markdown",
   "metadata": {},
   "source": [
    "## Git config\n",
    "The `git config` command lets you configure your Git installation (or an individual repository) from the command line.\n",
    "\n",
    "Git stores configuration options in three separate files, which lets you scope options to individual repositories (local:It is applied to the context repository git config gets invoked in), user (Global:  It is applied to an operating system user), or the entire system (system:It is applied across an entire machine).\n",
    "\n",
    "Important commands are:\n",
    "\n",
    "`git config --global user.name <name>`\n",
    "\n",
    "`git config --local user.email <email>`\n",
    "\n",
    "`git config --global alias.<alias-name> <git-command>`\n",
    "\n",
    "`git config --system core.editor <editor>`\n",
    "\n",
    "`git config --global --edit`\n",
    "\n",
    "[From atlassian with changes](https://www.atlassian.com/git/tutorials)"
   ]
  },
  {
   "cell_type": "markdown",
   "metadata": {},
   "source": [
    "![life cycle of status](/home/aria/QuTip/CODES/figures/status.png)\n",
    "\n",
    "[life cycle of status of a file from progit book](https://git-scm.com/book/en/v2)"
   ]
  },
  {
   "cell_type": "markdown",
   "metadata": {},
   "source": [
    "## Status\n",
    "To see status of the system, use `git status`."
   ]
  },
  {
   "cell_type": "markdown",
   "metadata": {},
   "source": [
    "For the first time when you creat a new file, if you run `git status` it will tell you there is an *untracked* file."
   ]
  },
  {
   "cell_type": "markdown",
   "metadata": {},
   "source": [
    "![untracked file](/home/aria/QuTip/CODES/figures/untracked.png)"
   ]
  },
  {
   "cell_type": "markdown",
   "metadata": {},
   "source": [
    "For making untracked files to tracked files which then can be commited, use `git add <file name>`."
   ]
  },
  {
   "cell_type": "markdown",
   "metadata": {},
   "source": [
    "To specify files which Git should ignore, a *.gitignore* file have to be created with below codes in that:\n",
    "\n",
    "| Signs          | Functionality                                                 |\n",
    "| -------------- |---------------------------------------------------------------| \n",
    "| \\# a comment   | this is ignored                                               |\n",
    "| *.a            | no .a files                                                   |\n",
    "| !lib.a         | but do track lib.a, even though you're ignoring .a files above|\n",
    "| /TODO          | only ignore the root TODO file, not subdir/TODO               |\n",
    "| build/         | ignore all files in the build/ directory                      |\n",
    "| doc/*.txt      | ignore doc/notes.txt, but not doc/server/arch.txt             |\n",
    "\n",
    "[From progit book](https://git-scm.com/book/en/v2)\n",
    "\n",
    "NOTE: Files already tracked by Git are not affected. First use ` git rm --cached FILENAME` then edit *.gitignore* file."
   ]
  },
  {
   "cell_type": "markdown",
   "metadata": {},
   "source": [
    "## Staging\n",
    "`git add` can be used with `-A` *switch*, which means add all files."
   ]
  },
  {
   "cell_type": "markdown",
   "metadata": {},
   "source": [
    "To pull out a file from staged area use `git reset <file name>`"
   ]
  },
  {
   "cell_type": "markdown",
   "metadata": {},
   "source": [
    "To see chanes only in staged files use `git diff --staged`"
   ]
  },
  {
   "cell_type": "markdown",
   "metadata": {},
   "source": [
    "Here we make a *.gitignore* file to tell Git not to track text files with .txt format.\n",
    "\n",
    "![gitignore file](/home/aria/QuTip/CODES/figures/gitignore.png)"
   ]
  },
  {
   "cell_type": "markdown",
   "metadata": {},
   "source": [
    "After `git add <file name>` the file is in the *stage area* and can be *commited*."
   ]
  },
  {
   "cell_type": "markdown",
   "metadata": {},
   "source": [
    "## Commit\n",
    "To tell Git, this state of a file is its normal state, use `git commit -m 'comment'`.It moves file from staging area to unmodifid state(normal state)."
   ]
  },
  {
   "cell_type": "markdown",
   "metadata": {},
   "source": [
    "`git rm <file name>` removes the file from git and file system."
   ]
  },
  {
   "cell_type": "markdown",
   "metadata": {},
   "source": [
    "To compare present state of a file with *HEAD(which normally is our last commit)* use `git diff HEAD`\n",
    "\n",
    "![git diff](/home/aria/QuTip/CODES/figures/gitdiff.png)"
   ]
  },
  {
   "cell_type": "markdown",
   "metadata": {},
   "source": [
    "In above picture --- (a) means file before change and +++ (b) means file after change. -153,7 means 7 lines beginning from line 153 from first file (before change) will be shown. And +153,7 means 10 lines beginning from line 153 of the second file (after change) will be shown.\n",
    "After line @@ -153,7 +153,10 @@, lines beginning with - sign and colored in red are lines which have changed from first file (old file). And lines which begin with + sign and colored in green are files in the second file (new file) which are created or modified."
   ]
  },
  {
   "cell_type": "markdown",
   "metadata": {},
   "source": [
    "To restore a specific file to its last commit use `git checkout -- <file name>`"
   ]
  },
  {
   "cell_type": "markdown",
   "metadata": {},
   "source": [
    "One of the common undos takes place when you commit too early and possibly forget to add some\n",
    "files, or you mess up your commit message. If you want to redo that commit, make the additional\n",
    "changes you forgot, stage them, and commit again using the --amend option:\n",
    "`git commit --amend`<br />\n",
    "This command takes your staging area and uses it for the commit. If you’ve made no changes since\n",
    "your last commit (for instance, you run this command immediately after your previous commit),\n",
    "then your snapshot will look exactly the same, and all you’ll change is your commit message.\n",
    "[From progit book](https://git-scm.com/book/en/v2)\n"
   ]
  },
  {
   "cell_type": "markdown",
   "metadata": {},
   "source": [
    "## Logs\n",
    "History of *commits* can be seen by using `git log`.\n",
    "\n",
    "![git log](/home/aria/QuTip/CODES/figures/gitlog.png)"
   ]
  },
  {
   "cell_type": "markdown",
   "metadata": {},
   "source": [
    "## Branches in Git\n",
    "Branching means you diverge from the main line of development and continue to do work without messing with that main line. *master* is the main branch in Git.\n",
    "\n",
    "`git branch` shows all of the branches. An * sign indicates current branch which is usually master.\n",
    "\n",
    "![branches in git](/home/aria/QuTip/CODES/figures/gitbranches.png)\n",
    "\n",
    "`git branch <branch name>` makes a new branch."
   ]
  },
  {
   "cell_type": "markdown",
   "metadata": {},
   "source": [
    "`git checkout <branch name>` selects desired branch."
   ]
  },
  {
   "cell_type": "markdown",
   "metadata": {},
   "source": [
    "After we made desired changes in a specific branch we checkout to master branch and to merge the branch to master branch we use:\n",
    "\n",
    "`git merge <branch name>`\n",
    "\n",
    "![git merge](/home/aria/QuTip/CODES/figures/merge.png)"
   ]
  },
  {
   "cell_type": "markdown",
   "metadata": {},
   "source": [
    "If we don't commit changes in a branch and checkout to master the chanes can be seen in master, but if we commit in the branch and then return to master changes in the branch won't be seen."
   ]
  },
  {
   "cell_type": "markdown",
   "metadata": {},
   "source": [
    "To remove a specific branch use `git branch -d <branch name>`."
   ]
  },
  {
   "cell_type": "markdown",
   "metadata": {},
   "source": [
    "## Git Remote\n",
    "The `git remote` command lets you create, view, and delete connections to other repositories.\n",
    "[From atlassian with changes](https://www.atlassian.com/git/tutorials)"
   ]
  },
  {
   "cell_type": "markdown",
   "metadata": {},
   "source": [
    "`git remote -v`\n",
    "Lists the remote connections you have to other repositories and their URLS.\n",
    "\n",
    "![git remote -v](/home/aria/QuTip/CODES/figures/remotev.png)"
   ]
  },
  {
   "cell_type": "markdown",
   "metadata": {},
   "source": [
    "`git remote add <name> <url>` Creates a new connection to a remote repository.\\<name> indicates to a repository on the remote server which we name in our local computer usually *origin*.\n",
    "`git remote rm <name>` Removes the connection to the remote repository called \\<name>.\n",
    "\n",
    "`git clone <repo> <directory>` Clones the repository located at *repo* into the folder called *~directory* on the local machine. It automatically creates a remote connection called **origin** pointing back to the cloned repository.\n",
    "    [From atlassian with changes](https://www.atlassian.com/git/tutorials)"
   ]
  },
  {
   "cell_type": "markdown",
   "metadata": {},
   "source": [
    "### Git Fetch\n",
    "The `git fetch` command downloads commits, files, and refs from a remote repository into your local repo. Fetching is what you do when you want to see what everybody else has been working on. It lets you see how the central history has progressed, but it doesn’t force you to actually merge the changes into your repository."
   ]
  },
  {
   "cell_type": "markdown",
   "metadata": {},
   "source": [
    "### Git Push\n",
    "The `git push` command is used to upload local repository content to a remote repository. Pushing is how you transfer commits from your local repository to a remote repo. It's the counterpart to git fetch, but whereas fetching imports commits to local branches, pushing exports commits to remote branches.\n",
    "\n",
    "![git push](/home/aria/QuTip/CODES/figures/gitpush.png)"
   ]
  },
  {
   "cell_type": "markdown",
   "metadata": {},
   "source": [
    "### Git Pull\n",
    "The `git pull` command is actually a combination of two other commands, `git fetch` followed by `git merge`."
   ]
  },
  {
   "cell_type": "markdown",
   "metadata": {},
   "source": [
    "`git show <commits hash code >` shows changes which have been made in the commit with specified hash code."
   ]
  },
  {
   "cell_type": "markdown",
   "metadata": {},
   "source": [
    "### Fork a project\n",
    "A fork is a copy of a repository. Forking a repository allows you to freely experiment with changes without affecting the original project.\n",
    "\n",
    "Most commonly, forks are used to either propose changes to someone else's project or to use someone else's project as a starting point for your own idea.\n",
    " To fork a project in GitHub open a project's repository then click on the Fork button.\n",
    "![Fork](/home/aria/QuTip/CODES/figures/fork_button.jpg)"
   ]
  },
  {
   "cell_type": "markdown",
   "metadata": {},
   "source": [
    "### Pull Request\n",
    "To contribute in a project you have to do below steps:\n",
    ">Fork the repository.\n",
    "\n",
    ">Make the fix.\n",
    "\n",
    ">Submit a pull request to the project owner."
   ]
  },
  {
   "cell_type": "markdown",
   "metadata": {},
   "source": [
    "## Git Tag"
   ]
  },
  {
   "cell_type": "markdown",
   "metadata": {},
   "source": [
    "`git tag` command is used to show previous version tags"
   ]
  },
  {
   "cell_type": "markdown",
   "metadata": {},
   "source": [
    "`git tag -a <version name or number> -m <tag's message>` is used to make a new tag.\n",
    "\n",
    "![git tag](/home/aria/QuTip/CODES/figures/gittag.png)"
   ]
  },
  {
   "cell_type": "markdown",
   "metadata": {},
   "source": [
    "`git tag -a <version name or number> <commit hash code>` is used to tag verion on a specific commit."
   ]
  },
  {
   "cell_type": "markdown",
   "metadata": {},
   "source": [
    "`git show <tag's name>` is used to show informations about the tag and the commit which the tag is on that commit.\n",
    "\n",
    "![git show tag](/home/aria/QuTip/CODES/figures/showtag.png)"
   ]
  },
  {
   "cell_type": "markdown",
   "metadata": {},
   "source": [
    "`git push` won't push tag names to remote. To do so use `git push origin --tags`"
   ]
  },
  {
   "cell_type": "markdown",
   "metadata": {},
   "source": [
    "## Git Conflict\n",
    "*Git conflict* arises when on local and remote the same line in the same file is modified. In this case local files can not be pushed to the remote.\n",
    "\n",
    "![git conflict](/home/aria/QuTip/CODES/figures/git_conflict.png)\n"
   ]
  },
  {
   "cell_type": "markdown",
   "metadata": {},
   "source": [
    "To resolve the conflict you should pull first, then git tries to merge files and if git fails to merge, you have to fix it manually by editing the file.\n",
    "\n",
    "![pull conflict](/home/aria/QuTip/CODES/figures/pull_conflict.png)"
   ]
  },
  {
   "cell_type": "markdown",
   "metadata": {},
   "source": [
    "Below picture shows the status when a conflict has occures:\n",
    "\n",
    "![git show tag](/home/aria/QuTip/CODES/figures/conflict_status.png)"
   ]
  },
  {
   "cell_type": "markdown",
   "metadata": {},
   "source": [
    "Git highlights the conflict as below:\n",
    "\n",
    "<<<<<<< HEAD \n",
    "\n",
    "'local content' \n",
    "\n",
    "\\======= \n",
    "\n",
    "'remote content' \n",
    "\n",
    "\\>>>>>>> '*hash of the content in remote*'\n",
    "\n",
    "To resolve the conflict you should keep one of the contents and then remove other texts above.\n",
    "\n",
    "![conflict file](/home/aria/QuTip/CODES/figures/conflictfile.png)\n"
   ]
  },
  {
   "cell_type": "markdown",
   "metadata": {},
   "source": [
    "## git blame\n",
    "`git blame <file name> -L<line a>,<line b>` Shows who has changed the lines from line a to line b, in the file named \\<file name>\n",
    "\n",
    "![git blame](/home/aria/QuTip/CODES/figures/blame.png)"
   ]
  }
 ],
 "metadata": {
  "celltoolbar": "Edit Metadata",
  "kernelspec": {
   "display_name": "Python 3",
   "language": "python",
   "name": "python3"
  },
  "language_info": {
   "codemirror_mode": {
    "name": "ipython",
    "version": 3
   },
   "file_extension": ".py",
   "mimetype": "text/x-python",
   "name": "python",
   "nbconvert_exporter": "python",
   "pygments_lexer": "ipython3",
   "version": "3.7.4"
  }
 },
 "nbformat": 4,
 "nbformat_minor": 4
}
