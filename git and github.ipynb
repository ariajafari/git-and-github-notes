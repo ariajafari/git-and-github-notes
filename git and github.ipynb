{
 "cells": [
  {
   "cell_type": "markdown",
   "metadata": {},
   "source": [
    "# Git"
   ]
  },
  {
   "cell_type": "markdown",
   "metadata": {},
   "source": [
    "![git icon](./Git.jpg)"
   ]
  },
  {
   "cell_type": "markdown",
   "metadata": {},
   "source": [
    "Git is a distributed (more than one person can be involved in a project) version control system (**vcs** ).\n",
    "Git can be downloaded from [git-scm.com](https://git-scm.com/ ).\n"
   ]
  },
  {
   "cell_type": "markdown",
   "metadata": {},
   "source": [
    "All of git commands have the form: `git <command> `."
   ]
  },
  {
   "cell_type": "markdown",
   "metadata": {},
   "source": [
    "To tell git to watch a specific directory, open terminal then go to the directory which you want to be watched and then type `git init` command. A new directory will be created with *.git* name."
   ]
  },
  {
   "cell_type": "markdown",
   "metadata": {},
   "source": [
    "To undo `git init` just delete *.git* directory with `rm -rf .git` command."
   ]
  },
  {
   "cell_type": "markdown",
   "metadata": {},
   "source": [
    "To see status of the system, use `git status`."
   ]
  },
  {
   "cell_type": "code",
   "execution_count": null,
   "metadata": {},
   "outputs": [],
   "source": []
  }
 ],
 "metadata": {
  "kernelspec": {
   "display_name": "Python 3",
   "language": "python",
   "name": "python3"
  },
  "language_info": {
   "codemirror_mode": {
    "name": "ipython",
    "version": 3
   },
   "file_extension": ".py",
   "mimetype": "text/x-python",
   "name": "python",
   "nbconvert_exporter": "python",
   "pygments_lexer": "ipython3",
   "version": "3.7.4"
  }
 },
 "nbformat": 4,
 "nbformat_minor": 4
}
