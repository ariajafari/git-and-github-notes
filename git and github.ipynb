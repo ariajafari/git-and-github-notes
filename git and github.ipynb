{
 "cells": [
  {
   "cell_type": "markdown",
   "metadata": {},
   "source": [
    "# <span style=\"color:green\"> Git</span>"
   ]
  },
  {
   "cell_type": "markdown",
   "metadata": {},
   "source": [
    "![git icon](./figures/Git.jpg)"
   ]
  },
  {
   "cell_type": "markdown",
   "metadata": {},
   "source": [
    "Git is a distributed (more than one person can be involved in a project) version control system (**vcs** ).\n",
    "Git can be downloaded from [git-scm.com](https://git-scm.com/ ).\n"
   ]
  },
  {
   "cell_type": "markdown",
   "metadata": {},
   "source": [
    "All of *Git* commands have the form: `git <command> `."
   ]
  },
  {
   "cell_type": "markdown",
   "metadata": {},
   "source": [
    "The *Git* directory is where *Git* stores the *metadata* and *object database* for your project. This is the most\n",
    "important part of *Git*, and it is what is copied when you *clone* a *repository* from another computer.\n",
    "[From progit book](https://git-scm.com/book/en/v2)"
   ]
  },
  {
   "cell_type": "markdown",
   "metadata": {},
   "source": [
    "To tell *Git* to watch a specific directory, open terminal then go to the directory which you want to be watched and then type `git init` command. A new directory will be created with *.git* name."
   ]
  },
  {
   "cell_type": "markdown",
   "metadata": {},
   "source": [
    "To undo `git init` just delete *.git* directory with `rm -rf .git` command."
   ]
  },
  {
   "cell_type": "markdown",
   "metadata": {},
   "source": [
    "## Git config to be added here"
   ]
  },
  {
   "cell_type": "markdown",
   "metadata": {},
   "source": [
    "![life cycle of status](./figures/status.png)\n",
    "\n",
    "[life cycle of status of a file from progit book](https://git-scm.com/book/en/v2)"
   ]
  },
  {
   "cell_type": "markdown",
   "metadata": {},
   "source": [
    "To see status of the system, use `git status`."
   ]
  },
  {
   "cell_type": "markdown",
   "metadata": {},
   "source": [
    "For the first time when you creat a new file, if you run `git status` it will tell you there is an *untracked* file."
   ]
  },
  {
   "cell_type": "markdown",
   "metadata": {},
   "source": [
    "![untracked file](./figures/untracked.png)"
   ]
  },
  {
   "cell_type": "markdown",
   "metadata": {},
   "source": [
    "For making untracked files to tracked files which then can be commited, use `git add <file name>`."
   ]
  },
  {
   "cell_type": "markdown",
   "metadata": {},
   "source": [
    "`git add` can be used with `-A` *switch*, which means add all files."
   ]
  },
  {
   "cell_type": "markdown",
   "metadata": {},
   "source": [
    "To specify files which Git should ignore, a *.gitignore* file have to be created with below codes in that:\n",
    "\n",
    "\\# a comment  &nbsp; &nbsp; &nbsp;  this is ignored\n",
    "\n",
    "*.a    &nbsp; &nbsp; &nbsp; no .a files\n",
    "\n",
    "!lib.a &nbsp; &nbsp; &nbsp;   but do track lib.a, even though you're ignoring .a files above\n",
    "\n",
    "/TODO  &nbsp; &nbsp; &nbsp;  only ignore the root TODO file, not subdir/TODO\n",
    "\n",
    "build/  &nbsp; &nbsp; &nbsp;  ignore all files in the build/ directory\n",
    "\n",
    "doc/*.txt  &nbsp; &nbsp; &nbsp;  ignore doc/notes.txt, but not doc/server/arch.txt\n",
    "\n",
    "[From progit book](https://git-scm.com/book/en/v2)\n",
    "\n",
    "NOTE: Files already tracked by Git are not affected. First use ` git rm --cached FILENAME` then edit *.gitignore* file."
   ]
  },
  {
   "cell_type": "markdown",
   "metadata": {},
   "source": [
    "Here we make a *.gitignore* file to tell Git not to track text files with .txt format.\n",
    "![gitignore file](./figures/gitignore.png)"
   ]
  },
  {
   "cell_type": "markdown",
   "metadata": {},
   "source": [
    "After `git add <file name>` the file is in the *stage area* and can be *commited*."
   ]
  },
  {
   "cell_type": "markdown",
   "metadata": {},
   "source": [
    "To tell Git, this state of a file is its normal state, use `git commit -m 'comment'`.It moves file from staging area to unmodifid state(normal state)."
   ]
  },
  {
   "cell_type": "markdown",
   "metadata": {},
   "source": [
    "`git rm <file name>` removes the file from git and file system."
   ]
  },
  {
   "cell_type": "markdown",
   "metadata": {},
   "source": [
    "History of *commits* can be seen by using `git log`.\n",
    "\n",
    "![git log](./figures/gitlog.png)"
   ]
  },
  {
   "cell_type": "markdown",
   "metadata": {},
   "source": [
    "To compare present state of a file with *HEAD(which normally is our last commit)* use `git diff HEAD`\n",
    "![git diff](./figures/gitdiff.png)"
   ]
  },
  {
   "cell_type": "markdown",
   "metadata": {},
   "source": [
    "In above picture --- (a) means file before change and +++ (b) means file after change. -153,7 means 7 lines beginning from line 153 from first file (before change) will be shown. And +153,7 means 10 lines beginning from line 153 of the second file (after change) will be shown.\n",
    "After line @@ -153,7 +153,10 @@, lines beginning with - sign and colored in red are lines which have changed from first file (old file). And lines which begin with + sign and colored in green are files in the second file (new file) which are created or modified."
   ]
  },
  {
   "cell_type": "markdown",
   "metadata": {},
   "source": [
    "To see chanes only in staged files use `git diff --staged`"
   ]
  },
  {
   "cell_type": "markdown",
   "metadata": {},
   "source": [
    "To pull out a file from staged area use `git reset <file name>`"
   ]
  },
  {
   "cell_type": "markdown",
   "metadata": {},
   "source": [
    "To restore a specific file to its last commit use `git checkout -- <file name>`"
   ]
  },
  {
   "cell_type": "markdown",
   "metadata": {},
   "source": [
    "One of the common undos takes place when you commit too early and possibly forget to add some\n",
    "files, or you mess up your commit message. If you want to redo that commit, make the additional\n",
    "changes you forgot, stage them, and commit again using the --amend option:\n",
    "`git commit --amend`<br />\n",
    "This command takes your staging area and uses it for the commit. If you’ve made no changes since\n",
    "your last commit (for instance, you run this command immediately after your previous commit),\n",
    "then your snapshot will look exactly the same, and all you’ll change is your commit message.\n",
    "[From progit book](https://git-scm.com/book/en/v2)\n"
   ]
  },
  {
   "cell_type": "markdown",
   "metadata": {},
   "source": [
    "Branching means you diverge from the main line of development and continue to do work without messing with that main line. *master* is the main branch in Git.\n",
    "\n",
    "`git branch` shows all of the branches. An * sign indicates current branch which is usually master.\n",
    "\n",
    "![branches in git](./figures/gitbranches.png)\n",
    "\n",
    "`git branch <branch name>` makes a new branch."
   ]
  },
  {
   "cell_type": "markdown",
   "metadata": {},
   "source": [
    "`git checkout <branch name>` selects desired branch."
   ]
  },
  {
   "cell_type": "markdown",
   "metadata": {},
   "source": [
    "After we made desired changes in a specific branch we checkout to master branch and to merge the branch to master branch we use:\n",
    "\n",
    "`git merge <branch name>`\n",
    "\n",
    "![git merge](./figures/merge.png)"
   ]
  },
  {
   "cell_type": "markdown",
   "metadata": {},
   "source": [
    "If we don't commit changes in a branch and checkout to master the chanes can be seen in master, but if we commit in the branch and then return to master changes in the branch won't be seen."
   ]
  },
  {
   "cell_type": "markdown",
   "metadata": {},
   "source": [
    "To remove a specific branch use `git branch -d <branch name>`."
   ]
  },
  {
   "cell_type": "markdown",
   "metadata": {},
   "source": [
    "### Git Remote\n",
    "The `git remote` command lets you create, view, and delete connections to other repositories."
   ]
  },
  {
   "cell_type": "markdown",
   "metadata": {},
   "source": [
    "`git remote -v`\n",
    "Lists the remote connections you have to other repositories and their URLS.\n",
    "![git remote -v](./figures/remotev.png)"
   ]
  },
  {
   "cell_type": "markdown",
   "metadata": {},
   "source": [
    "`git remote add <name> <url>` Creates a new connection to a remote repository."
   ]
  },
  {
   "cell_type": "markdown",
   "metadata": {},
   "source": [
    "`git remote rm <name>` Removes the connection to the remote repository called <name>."
   ]
  },
  {
   "cell_type": "markdown",
   "metadata": {},
   "source": [
    "`git clone <repo> <directory>` Clones the repository located at *repo* into the folder called *~directory* on the local machine. It automatically creates a remote connection called **origin** pointing back to the cloned repository."
   ]
  },
  {
   "cell_type": "markdown",
   "metadata": {},
   "source": [
    "## Git Fetch\n",
    "The `git fetch` command downloads commits, files, and refs from a remote repository into your local repo. Fetching is what you do when you want to see what everybody else has been working on. It lets you see how the central history has progressed, but it doesn’t force you to actually merge the changes into your repository."
   ]
  },
  {
   "cell_type": "markdown",
   "metadata": {},
   "source": [
    "## Git Push\n",
    "The `git push` command is used to upload local repository content to a remote repository. Pushing is how you transfer commits from your local repository to a remote repo. It's the counterpart to git fetch, but whereas fetching imports commits to local branches, pushing exports commits to remote branches."
   ]
  },
  {
   "cell_type": "code",
   "execution_count": null,
   "metadata": {},
   "outputs": [],
   "source": []
  }
 ],
 "metadata": {
  "kernelspec": {
   "display_name": "Python 3",
   "language": "python",
   "name": "python3"
  },
  "language_info": {
   "codemirror_mode": {
    "name": "ipython",
    "version": 3
   },
   "file_extension": ".py",
   "mimetype": "text/x-python",
   "name": "python",
   "nbconvert_exporter": "python",
   "pygments_lexer": "ipython3",
   "version": "3.7.4"
  }
 },
 "nbformat": 4,
 "nbformat_minor": 4
}
