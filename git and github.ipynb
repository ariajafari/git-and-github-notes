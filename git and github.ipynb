{
 "cells": [
  {
   "cell_type": "markdown",
   "metadata": {},
   "source": [
    "# <span style=\"color:green\"> Git</span>"
   ]
  },
  {
   "cell_type": "markdown",
   "metadata": {},
   "source": [
    "![git icon](./Git.jpg)"
   ]
  },
  {
   "cell_type": "markdown",
   "metadata": {},
   "source": [
    "Git is a distributed (more than one person can be involved in a project) version control system (**vcs** ).\n",
    "Git can be downloaded from [git-scm.com](https://git-scm.com/ ).\n"
   ]
  },
  {
   "cell_type": "markdown",
   "metadata": {},
   "source": [
    "All of *Git* commands have the form: `git <command> `."
   ]
  },
  {
   "cell_type": "markdown",
   "metadata": {},
   "source": [
    "The *Git* directory is where *Git* stores the *metadata* and *object database* for your project. This is the most\n",
    "important part of *Git*, and it is what is copied when you *clone* a *repository* from another computer."
   ]
  },
  {
   "cell_type": "markdown",
   "metadata": {},
   "source": [
    "To tell *Git* to watch a specific directory, open terminal then go to the directory which you want to be watched and then type `git init` command. A new directory will be created with *.git* name."
   ]
  },
  {
   "cell_type": "markdown",
   "metadata": {},
   "source": [
    "To undo `git init` just delete *.git* directory with `rm -rf .git` command."
   ]
  },
  {
   "cell_type": "markdown",
   "metadata": {},
   "source": [
    "some explanations on life cycle of ststus ........"
   ]
  },
  {
   "cell_type": "markdown",
   "metadata": {},
   "source": [
    "![life cycle of status](./status.png)"
   ]
  },
  {
   "cell_type": "markdown",
   "metadata": {},
   "source": [
    "To see status of the system, use `git status`."
   ]
  },
  {
   "cell_type": "markdown",
   "metadata": {},
   "source": [
    "For the first time when you creat a new file, if you run `git status` it will tell you there is an *untracked* file."
   ]
  },
  {
   "cell_type": "markdown",
   "metadata": {},
   "source": [
    "![untracked file](./untracked.png)"
   ]
  },
  {
   "cell_type": "markdown",
   "metadata": {},
   "source": [
    "For making untracked files to tracked files which then can be commited, use `git add <file name>`."
   ]
  },
  {
   "cell_type": "markdown",
   "metadata": {},
   "source": [
    "`git add` can be used with `-A` *switch*, which means add all files."
   ]
  },
  {
   "cell_type": "markdown",
   "metadata": {},
   "source": [
    "To hide files form Git, a *.gitignore* file have to be created with below codes in that:\n",
    "\n",
    "\\# a comment    this is ignored\n",
    "\n",
    "*.a    no .a files\n",
    "\n",
    "!lib.a    but do track lib.a, even though you're ignoring .a files above\n",
    "\n",
    "/TODO    only ignore the root TODO file, not subdir/TODO\n",
    "\n",
    "build/    ignore all files in the build/ directory\n",
    "\n",
    "doc/*.txt    ignore doc/notes.txt, but not doc/server/arch.txt"
   ]
  },
  {
   "cell_type": "markdown",
   "metadata": {},
   "source": [
    "After `git add <file name>` the file is in the *stage* and can be commited."
   ]
  },
  {
   "cell_type": "markdown",
   "metadata": {},
   "source": []
  },
  {
   "cell_type": "markdown",
   "metadata": {},
   "source": []
  },
  {
   "cell_type": "markdown",
   "metadata": {},
   "source": []
  }
 ],
 "metadata": {
  "kernelspec": {
   "display_name": "Python 3",
   "language": "python",
   "name": "python3"
  },
  "language_info": {
   "codemirror_mode": {
    "name": "ipython",
    "version": 3
   },
   "file_extension": ".py",
   "mimetype": "text/x-python",
   "name": "python",
   "nbconvert_exporter": "python",
   "pygments_lexer": "ipython3",
   "version": "3.7.4"
  }
 },
 "nbformat": 4,
 "nbformat_minor": 4
}
